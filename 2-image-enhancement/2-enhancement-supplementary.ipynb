{
 "cells": [
  {
   "cell_type": "markdown",
   "metadata": {},
   "source": [
    "# **Introduction to Image Processing**\n",
    "\n",
    "** Dear students this is your first assignment in Image processing course, in the context of this assignment you have to:**\n",
    "* **complete `2-enhancement.ipynb` up to section 2.7**\n",
    "* **complete this notebook `2-enhancement-supplementary.ipynb`**\n",
    "* **add your changes, commit and push your completed assignment to your github repo**\n",
    "\n",
    "`2-enhancement-supplememtary.ipynb` provides more information on section 2.7"
   ]
  },
  {
   "cell_type": "markdown",
   "metadata": {},
   "source": [
    "## 2.7 Your own implementation \n",
    "\n",
    "### Q.1 Import the required libraries and functions"
   ]
  },
  {
   "cell_type": "code",
   "execution_count": 1,
   "metadata": {},
   "outputs": [
    {
     "name": "stdout",
     "output_type": "stream",
     "text": [
      "Pretty printing has been turned OFF\n"
     ]
    }
   ],
   "source": [
    "% matplotlib inline\n",
    "% pprint off\n",
    "\n",
    "% matplotlib inline\n",
    "% pprint off\n",
    "\n",
    "# Matplotlib library\n",
    "import matplotlib.pyplot as plt\n",
    "from matplotlib import cm\n",
    "\n",
    "# Numpy library\n",
    "import numpy as np\n",
    "\n",
    "from skimage import io\n",
    "from skimage import img_as_ubyte\n",
    "from skimage import img_as_float\n",
    "from skimage.color import rgb2gray\n",
    "\n",
    "\n",
    "### import the libraries you think its necessary for your task "
   ]
  },
  {
   "cell_type": "markdown",
   "metadata": {},
   "source": [
    "### Q.2 Contrast streching "
   ]
  },
  {
   "cell_type": "markdown",
   "metadata": {},
   "source": [
    "** Define your function which stretch the image contrast, `cont_str`, using minimum and maximum values from the image **\n",
    "\n",
    "**This function should accept the input image, calculates the minimum and maximum and rescales the intensities.**\n",
    "\n",
    "** Return the image as uint8 **"
   ]
  },
  {
   "cell_type": "code",
   "execution_count": 16,
   "metadata": {
    "collapsed": true
   },
   "outputs": [],
   "source": [
    "def cont_str (inputimage) :\n",
    "    \n",
    "    img = inputimage\n",
    "    maxold=np.amax(img)\n",
    "    minold=np.amin(img)\n",
    "    for i in range(0,img.shape[0]-1):\n",
    "        for j in range(0,img.shape[1]-1):\n",
    "            img[i,j]=255*(img[i,j]-minold)/(maxold-minold)\n",
    "    return img"
   ]
  },
  {
   "cell_type": "markdown",
   "metadata": {},
   "source": [
    "**Use your function to transform the  gray version of `satellite.jpg` image (ubyte format), show the original image and the transformed image and their histogram**"
   ]
  },
  {
   "cell_type": "code",
   "execution_count": null,
   "metadata": {
    "collapsed": true
   },
   "outputs": [],
   "source": [
    "filename = './images/satellite.jpg'\n",
    "satellite = io.imread(filename)\n",
    "satellite_gray = rgb2gray (satellite)\n",
    "satellite_ubyte = img_as_ubyte(satellite_gray)\n",
    "\n",
    "fig, axes=plt.subplots(nrows=2, ncols=2, figsize=(20,20))\n",
    "ax0, ax1, ax2, ax3 = axes.ravel()\n",
    "ax0.imshow(satellite, cmap=cm.gray)\n",
    "ax0.set_title('original image')\n",
    "bins, bins_c=np.histogram(satellite, 256)\n",
    "ax1.plot(bins_c[1:], bins)\n",
    "ax1.set_title('histogram of original image')\n",
    "\n",
    "satellite_cont_str=cont_str(satellite_ubyte)\n",
    "ax2.imshow(satellite_cont_str, cmap=cm.gray)\n",
    "ax2.set_title('Image with stretched contrast')\n",
    "bins, bins_c=np.histogram(satellite_cont_str, 256)\n",
    "ax3.plot(bins_c[1:], bins)\n",
    "ax3.set_title('histogram of image with stretched contrast')\n",
    "\n",
    "C:\\ProgramData\\Anaconda3\\lib\\site-packages\\skimage\\util\\dtype.py:122: UserWarning: Possible precision loss when converting from float64 to uint8\n",
    "  .format(dtypeobj_in, dtypeobj_out))"
   ]
  },
  {
   "cell_type": "markdown",
   "metadata": {
    "collapsed": true
   },
   "source": [
    "### Q.3 Histogram equalization\n",
    "Histogram equalization can be used to enhance the contrast in images.\n",
    "\n",
    "The idea behind the histogram equalization process is that each gray level should have an equal contribution in the image. The function allowing such transformation is in fact the cumulative density function."
   ]
  },
  {
   "cell_type": "markdown",
   "metadata": {},
   "source": [
    "**Define your own histgram equalization function, `hist_eq`**\n",
    "\n",
    "**This function should accpet the image, max_int and min_int and return the transformed image and its cdf**"
   ]
  },
  {
   "cell_type": "code",
   "execution_count": null,
   "metadata": {
    "collapsed": true
   },
   "outputs": [],
   "source": [
    "def hist_eq (image, min_int, max_int) :\n",
    "    \n",
    "    Hist, bins=np.histogram(image.flatten(), bins=max_int-min_int, normed=True)\n",
    "    cdf=np.cumsum(Hist)\n",
    "    Histcum=255*cdf/cdf[-1]\n",
    "    image2=np.interp(image.flatten(), bins[:-1], Histcum)\n",
    "    print(Histcum.size)\n",
    "    return image2.reshape(image.shape), Histcum"
   ]
  },
  {
   "cell_type": "markdown",
   "metadata": {},
   "source": [
    "** Use your function to transform the gray version of `satellite.jpg` image again in ubyte format**\n",
    "\n",
    "** max_int = 255, min_int = 0 **"
   ]
  },
  {
   "cell_type": "code",
   "execution_count": null,
   "metadata": {
    "collapsed": true
   },
   "outputs": [],
   "source": [
    "filename = './images/satellite.jpg'\n",
    "satellite = io.imread(filename)\n",
    "satellite_gray = rgb2gray (satellite)\n",
    "satellite_ubyte = img_as_ubyte(satellite_gray)\n",
    "sat_eq, cdf_eq=hist_eq(satellite_ubyte, 0, 255)\n",
    "\n",
    "C:\\ProgramData\\Anaconda3\\lib\\site-packages\\skimage\\util\\dtype.py:122: UserWarning: Possible precision loss when converting from float64 to uint8\n",
    "  .format(dtypeobj_in, dtypeobj_out))\n"
   ]
  },
  {
   "cell_type": "markdown",
   "metadata": {},
   "source": [
    "**Show the transformed image and its histogram**"
   ]
  },
  {
   "cell_type": "code",
   "execution_count": null,
   "metadata": {
    "collapsed": true
   },
   "outputs": [],
   "source": [
    "fig, axes=plt.subplots(nrows=2, ncols=2, figsize=(20,20))\n",
    "ax0, ax1, ax2, ax3 = axes.ravel()\n",
    "ax0.imshow(satellite, cmap=cm.gray)\n",
    "ax0.set_title('original image')\n",
    "bins, bins_c=np.histogram(satellite, 256)\n",
    "ax1.plot(bins_c[1:], bins)\n",
    "ax1.set_title('histogram of original image')\n",
    "\n",
    "\n",
    "ax2.imshow(sat_eq, cmap=cm.gray)\n",
    "ax2.set_title('Image with equalized histogram')\n",
    "bins, bins_c=np.histogram(sat_eq, 256)\n",
    "ax3.plot(bins_c[1:], bins)\n",
    "ax3.set_title('histogram of image with equalized histogram')\n"
   ]
  },
  {
   "cell_type": "markdown",
   "metadata": {
    "collapsed": true
   },
   "source": [
    "### Q.4 Histogram matching"
   ]
  },
  {
   "cell_type": "markdown",
   "metadata": {},
   "source": [
    "** In this section we will perform histogram matching, the `hist_match` function is mostly defined here**\n",
    "** `hist_match` uses the function that should define the Q.3 `hist_eq`, check the comments in the code as well **\n",
    " \n",
    "** Explain the process of histogram matching in your own words**"
   ]
  },
  {
   "cell_type": "markdown",
   "metadata": {},
   "source": []
  },
  {
   "cell_type": "code",
   "execution_count": 22,
   "metadata": {
    "collapsed": true
   },
   "outputs": [],
   "source": [
    "def find_inverse_mapping(mapping):\n",
    "    # Initialise the inverse\n",
    "    inv_mapping = np.zeros(mapping.shape)\n",
    "    # Find the index that we can affect for sure\n",
    "    idx_inv_map = np.unique(mapping)\n",
    "    \n",
    "    # For each index\n",
    "    for idx in idx_inv_map:\n",
    "        # Find the corresponding index value\n",
    "        int_val = np.where(mapping == idx)[0][0]\n",
    "        # Affect this value for the inverse mapping\n",
    "        inv_mapping[idx] = int_val\n",
    "        \n",
    "    # Find the first index which is not zero\n",
    "    first_elt_idx = np.nonzero(inv_mapping)[0][0]\n",
    "    for i, elt in enumerate(inv_mapping[first_elt_idx:-1]):\n",
    "        if (elt == 0):\n",
    "            inv_mapping[i + first_elt_idx] = inv_mapping[i + first_elt_idx - 1]\n",
    "        \n",
    "    return inv_mapping.astype('uint8')\n",
    "\n"
   ]
  },
  {
   "cell_type": "code",
   "execution_count": 23,
   "metadata": {
    "collapsed": true
   },
   "outputs": [],
   "source": [
    "def hist_match(img, pdf_to_fit, min_int, max_int):\n",
    "    # Equalize img\n",
    "    \n",
    "    ## hist_eq is actually the function that you should implement in the previous Question \n",
    "    img_eq, cdf_eq = hist_eq(img, min_int, max_int)\n",
    "   \n",
    "    \n",
    "    # We need to make the matching now\n",
    "    ## Compute the transform G\n",
    "    \n",
    "    ### Compute the cdf\n",
    "    cdf = np.cumsum(pdf_to_fit)\n",
    "    \n",
    "    ### Multiply the cdf by the number of gray values\n",
    "    cdf_real = cdf * float(max_int)\n",
    "    ### Round the cdf\n",
    "    G = np.floor(cdf_real).astype('int')\n",
    "    \n",
    "    ## But we need the inverse\n",
    "    G_1 = find_inverse_mapping(G)\n",
    "    \n",
    "    img_match = np.zeros((img_eq.shape[0], img_eq.shape[1]))\n",
    "    for i in range (np.shape(img_eq)[0]):\n",
    "        for j in range (np.shape(img_eq)[1]):\n",
    "            img_match[i][j] = G_1[int(img_eq[i][j])]\n",
    "    \n",
    "    return img_match  "
   ]
  },
  {
   "cell_type": "markdown",
   "metadata": {},
   "source": [
    "**Creating a manual pdf following a gaussian distribution**"
   ]
  },
  {
   "cell_type": "code",
   "execution_count": 51,
   "metadata": {
    "collapsed": true
   },
   "outputs": [],
   "source": [
    "from scipy.stats import norm\n",
    "\n",
    "x = np.arange(max_img+1)\n",
    "pdf_to_fit = norm.pdf(x, 150, 30)\n"
   ]
  },
  {
   "cell_type": "markdown",
   "metadata": {},
   "source": [
    "**Use the defined function to match the histogram of gray version of satellite image to `pdf_to_fit`**"
   ]
  },
  {
   "cell_type": "code",
   "execution_count": null,
   "metadata": {
    "collapsed": true
   },
   "outputs": [],
   "source": [
    "sat_matched=hist_match(satellite_ubyte, pdf_to_fit, satellite_ubyte.min(), satellite_ubyte.max())\n",
    "fig, axes=plt.subplots(nrows=2, ncols=2, figsize=(20,20))\n",
    "ax0, ax1, ax2, ax3 = axes.ravel()\n",
    "ax0.imshow(satellite, cmap=cm.gray)\n",
    "ax0.set_title('original image')\n",
    "bins, bins_c=np.histogram(satellite_ubyte, 256)\n",
    "ax1.plot(bins_c[1:], bins)\n",
    "ax1.set_title('histogram of original image')\n",
    "\n",
    "\n",
    "ax2.imshow(sat_matched, cmap=cm.gray)\n",
    "ax2.set_title('Image with matched histogram')\n",
    "bins, bins_c=np.histogram(sat_matched, 256)\n",
    "ax3.plot(bins_c[1:], bins)\n",
    "ax3.set_title('histogram of image with matched histogram')"
   ]
  },
  {
   "cell_type": "markdown",
   "metadata": {},
   "source": [
    "### Q.5 \n",
    "\n",
    "** Explain the difference between log transform enhancement and gamma transform **\n"
   ]
  },
  {
   "cell_type": "markdown",
   "metadata": {},
   "source": []
  },
  {
   "cell_type": "markdown",
   "metadata": {},
   "source": [
    "** Explain how sigmoid function enhances the image **"
   ]
  },
  {
   "cell_type": "markdown",
   "metadata": {},
   "source": []
  }
 ],
 "metadata": {
  "kernelspec": {
   "display_name": "Python 3",
   "language": "python",
   "name": "python3"
  },
  "language_info": {
   "codemirror_mode": {
    "name": "ipython",
    "version": 3
   },
   "file_extension": ".py",
   "mimetype": "text/x-python",
   "name": "python",
   "nbconvert_exporter": "python",
   "pygments_lexer": "ipython3",
   "version": "3.6.2"
  }
 },
 "nbformat": 4,
 "nbformat_minor": 1
}
